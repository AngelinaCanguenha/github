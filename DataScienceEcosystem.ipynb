{
 "cells": [
  {
   "cell_type": "markdown",
   "id": "a205b57f",
   "metadata": {},
   "source": [
    "# Data Science Tools and Ecosystem"
   ]
  },
  {
   "cell_type": "markdown",
   "id": "de00f6d6",
   "metadata": {},
   "source": [
    "###### In this notebook, Data Science Tools and Ecosystem are summarized about languages, libraries and repository that we can use for Data Science. After completing this course, we will be able to manege and type a basic programing language code, and to know the many libriaries and data science tools."
   ]
  },
  {
   "cell_type": "markdown",
   "id": "12ccf278",
   "metadata": {},
   "source": [
    "### <b> Objectives:</b>\n"
   ]
  },
  {
   "cell_type": "markdown",
   "id": "6aa49522",
   "metadata": {},
   "source": [
    "##### List popular languages for Data Science\n",
    "- Popular Languages\n",
    "- Popular Libraries\n",
    "- data Science Tools"
   ]
  },
  {
   "cell_type": "markdown",
   "id": "db56944e",
   "metadata": {},
   "source": [
    "##### Some of the popular languages that Data Scientists use are:\n",
    "<ol> \n",
    "    <li> Phython </li>\n",
    "    <li> R </li>\n",
    "    <li> Matlab </li>\n",
    "    <li> Java </li>\n",
    "    </ol>"
   ]
  },
  {
   "cell_type": "markdown",
   "id": "439bb13b",
   "metadata": {},
   "source": [
    "###### Some of the commonly used libraries used by Data Scientists include:\n"
   ]
  },
  {
   "cell_type": "markdown",
   "id": "660335fe",
   "metadata": {},
   "source": [
    "<ol>\n",
    "    <li> Pandas </li>\n",
    "    <li> Numpy </li>\n",
    "    <li> ggplot</li>\n",
    "    <li> Matplotlib </li>\n",
    "    </ol>"
   ]
  },
  {
   "cell_type": "markdown",
   "id": "e3bf4fdc",
   "metadata": {},
   "source": [
    "<table>\n",
    "    <tr>\n",
    "        <th> Data Science Tools</th>\n",
    "    </tr>\n",
    "    <tr>\n",
    "        <td> Anaconda</td>\n",
    "    </tr>\n",
    "    <tr>\n",
    "        <td> Visual Studio </td>\n",
    "    </tr>\n",
    "    <tr>\n",
    "        <td> Apache </td>\n",
    "    </tr>\n",
    "    </table>\n",
    "            "
   ]
  },
  {
   "cell_type": "markdown",
   "id": "5df1812d",
   "metadata": {},
   "source": [
    "### Below are a few examples of evaluating arithmetic expressions in Python"
   ]
  },
  {
   "cell_type": "code",
   "execution_count": 3,
   "id": "57e8a518",
   "metadata": {},
   "outputs": [
    {
     "data": {
      "text/plain": [
       "17"
      ]
     },
     "execution_count": 3,
     "metadata": {},
     "output_type": "execute_result"
    }
   ],
   "source": [
    "(3*4)+5"
   ]
  },
  {
   "cell_type": "markdown",
   "id": "a8e6b400",
   "metadata": {},
   "source": [
    "###### This will convert 200 minutes to hours by diving by 60\n",
    "\n"
   ]
  },
  {
   "cell_type": "markdown",
   "id": "eba03361",
   "metadata": {},
   "source": [
    "## Author\n",
    "Angelina Napende Canguenha"
   ]
  },
  {
   "cell_type": "code",
   "execution_count": 12,
   "id": "6370bc3c",
   "metadata": {},
   "outputs": [
    {
     "data": {
      "text/plain": [
       "3.3333333333333335"
      ]
     },
     "execution_count": 12,
     "metadata": {},
     "output_type": "execute_result"
    }
   ],
   "source": [
    "200/60\n",
    "\n"
   ]
  },
  {
   "cell_type": "code",
   "execution_count": null,
   "id": "9bd1c1c1",
   "metadata": {},
   "outputs": [],
   "source": []
  }
 ],
 "metadata": {
  "kernelspec": {
   "display_name": "Python 3 (ipykernel)",
   "language": "python",
   "name": "python3"
  },
  "language_info": {
   "codemirror_mode": {
    "name": "ipython",
    "version": 3
   },
   "file_extension": ".py",
   "mimetype": "text/x-python",
   "name": "python",
   "nbconvert_exporter": "python",
   "pygments_lexer": "ipython3",
   "version": "3.10.9"
  }
 },
 "nbformat": 4,
 "nbformat_minor": 5
}
